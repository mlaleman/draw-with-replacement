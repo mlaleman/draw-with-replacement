{
 "cells": [
  {
   "cell_type": "markdown",
   "id": "cea8ccb5-5dd9-4b7a-8f58-b98b0763aab6",
   "metadata": {},
   "source": [
    "# Draw with replacement\n",
    "\n",
    "Imagin we have an urn, filled with numbered balls. We draw a number of these balls, but after each draw, we place the drawn ball back in the urn. How many different numbers will we have seen after a given number of draws?\n",
    "\n",
    "To make this precise, imagine the urn contains $N$ balls, labeled with the numbers $0, 1, ..., N$. Let us refer to $N$ as the _urn size_. We draw $D$ balls, i.e. the _draw size_, but after every draw, we place the ball back in the urn. I.e. for each of the $D$ draws, we are effectively sampling from all of the $N$ balls. How many different numbers do we expect to have seen in a draw of size $D$? Let us call this quantity $U$, for the _unique numbers_ we see in the draw."
   ]
  },
  {
   "cell_type": "code",
   "execution_count": 1,
   "id": "143320f4-5e57-4eee-ba70-7e655e5d35e4",
   "metadata": {},
   "outputs": [],
   "source": [
    "import numpy as np"
   ]
  },
  {
   "cell_type": "markdown",
   "id": "e91ee5d8-f176-46f7-88eb-dd13444a3a2b",
   "metadata": {},
   "source": [
    "## Setting urn and sample size"
   ]
  },
  {
   "cell_type": "code",
   "execution_count": 2,
   "id": "b3e6874b-056b-4fe9-ae1d-58a5f5e3fac1",
   "metadata": {},
   "outputs": [],
   "source": [
    "N = 5  # Urn size\n",
    "D = 5  # Draw size"
   ]
  },
  {
   "cell_type": "markdown",
   "id": "32a31c69-705e-4e01-88c6-d07e15194ce9",
   "metadata": {},
   "source": [
    "## A first implementation\n",
    "Before trying to calculate how many different numbers we expect to see, let us write a function which performs the experiment a given number of times, and computes the average."
   ]
  },
  {
   "cell_type": "code",
   "execution_count": 3,
   "id": "90c34714-5d80-4e66-b9c4-3d254640e47d",
   "metadata": {},
   "outputs": [],
   "source": [
    "def compute_expected_sample_size(urn_size: int, draw_size: int, no_samples: int = 1_000) -> float:\n",
    "    \"\"\"Computes the expected sample size, given the urn size and sample size, by simulating the \n",
    "    experiment ``no_samples`` times.\"\"\"\n",
    "    # The urn is represented as a list of numbers 0, 1, ..., urn_size - 1\n",
    "    urn = list(range(urn_size))\n",
    "    \n",
    "    # Run the experiment\n",
    "    diff_numbers_in_sample = []\n",
    "    for _ in range(int(no_samples)):\n",
    "        sample = np.random.choice(urn, draw_size, replace=True)\n",
    "        diff_numbers = len(set(sample))\n",
    "        diff_numbers_in_sample.append(diff_numbers)\n",
    "        \n",
    "    # Compute and return mean\n",
    "    return np.mean(diff_numbers_in_sample)    "
   ]
  },
  {
   "cell_type": "code",
   "execution_count": 4,
   "id": "8103e625-d909-4ee7-8b44-e8dc1c413174",
   "metadata": {},
   "outputs": [
    {
     "name": "stdout",
     "output_type": "stream",
     "text": [
      "3.359\n",
      "CPU times: user 25.5 ms, sys: 310 µs, total: 25.8 ms\n",
      "Wall time: 22.2 ms\n"
     ]
    }
   ],
   "source": [
    "# Let us run a single experiment\n",
    "%time print(compute_expected_sample_size(N, D, 1000))"
   ]
  },
  {
   "cell_type": "markdown",
   "id": "0ccec477-b578-467a-bb65-cd4f8e21980e",
   "metadata": {},
   "source": [
    "## Making it a bit faster\n",
    "\n",
    "The code above is relatively slow. ~25 ms for 1000 samples (on the machine this is run on).\n",
    "The main suspect for this is the sample generation in every loop. Luckily, ``np.random.choice`` \n",
    "allows to specify a multidimentisonal ``size``, which cab efficiently generate all the samples\n",
    "at once."
   ]
  },
  {
   "cell_type": "code",
   "execution_count": 5,
   "id": "20e6538c-9a28-4cde-9bb7-a6470d895283",
   "metadata": {},
   "outputs": [],
   "source": [
    "def compute_expected_sample_size_fast(urn_size: int, draw_size: int, no_samples: int = 1_000) -> float:\n",
    "    \"\"\"Computes the expected sample size, given the urn size and sample size, by simulating the \n",
    "    experiment ``no_samples`` times.\"\"\"\n",
    "    # The urn is represented as a list of numbers 0, 1, ..., urn_size - 1\n",
    "    urn = list(range(urn_size))\n",
    "    \n",
    "    # Run the experiment\n",
    "    all_samples = np.random.choice(urn, (no_samples, draw_size), replace=True)\n",
    "    \n",
    "    # Compute length, return average\n",
    "    def no_unique(arr: list) -> int:\n",
    "        return len(set(arr))\n",
    "    \n",
    "    return np.mean(list(map(no_unique, all_samples)))"
   ]
  },
  {
   "cell_type": "code",
   "execution_count": 6,
   "id": "b7b07c5b-5907-42d1-885c-b81f82e53190",
   "metadata": {},
   "outputs": [
    {
     "name": "stdout",
     "output_type": "stream",
     "text": [
      "3.35977\n",
      "CPU times: user 1.85 s, sys: 88.4 ms, total: 1.94 s\n",
      "Wall time: 1.81 s\n",
      "3.36104\n",
      "CPU times: user 111 ms, sys: 0 ns, total: 111 ms\n",
      "Wall time: 110 ms\n"
     ]
    }
   ],
   "source": [
    "no_samples = 100000\n",
    "N = 5\n",
    "D = 5\n",
    "%time print(compute_expected_sample_size(N, D, no_samples))\n",
    "%time print(compute_expected_sample_size_fast(N, D, no_samples))"
   ]
  },
  {
   "cell_type": "markdown",
   "id": "99e46d52-a622-459b-81a3-405eaafab6b5",
   "metadata": {},
   "source": [
    "## Analytical solution\n",
    "\n",
    "The analytical solution can be found through a recursive formula. \n",
    "\n",
    "The expected value of the unique numbers for the $n$-th ball drawn $U_n$, given that we know how many \n",
    "unique numbers we know so far (i.e. we know $U_{n-1}$) is expressed as:\n",
    "\n",
    "$$\n",
    "\\begin{align}\n",
    "    \\mathbb{E}\\left[ U_{n} | U_{n - 1} \\right]  \n",
    "    & = \\frac{U_{n-1}}{N}   U_{n-1} + \\frac{N - U_{n-1}}{N}  (U_{n-1} + 1) \\\\[10 pt]\n",
    "    & = U_{n-1} + \\frac{N - U_{n-1}}{N}.\n",
    "\\end{align}\n",
    "$$\n",
    "\n",
    "After some handwaving, we can drop the expectation values (or rather add them at both sides of the equation), leading us to the following equation:\n",
    "\n",
    "$$\n",
    "U_{n} = U_{n-1} + \\frac{N - U_{n-1}}{N}.\n",
    "$$\n",
    "\n",
    "Two observations allow to easily solve this equation: $U_0 = 0$, and $N$ is a fixed point of this recursion relation (i.e. if $U_{n-1} = N$, then also $U_n = N$). \n",
    "To solve the recursion relation, define:\n",
    "$$\n",
    "\\tilde U_n \\equiv U_n - N.\n",
    "$$\n",
    "Not that this definition recasts the variables as measuring \"how far from the fixed point\" they are.\n",
    "\n",
    "The recursion relation then becomes easy to solve:\n",
    "\n",
    "$$\n",
    "\\begin{align}\n",
    "\\tilde U_{n} + N  & = \\left( \\tilde U_{n-1} + N\\right)  + \\frac{N - \\left(\\tilde U_{n-1} + N \\right)}{N} \\\\\n",
    "& \\Updownarrow \\\\\n",
    "\\tilde U_{n}  & = \\frac{N - 1}{N} \\tilde U_{n-1}   \\\\\n",
    "& \\Updownarrow \\\\\n",
    "\\tilde U_{n}  & = \\left( \\frac{N - 1}{N} \\right)^n \\;  \\tilde U_{0}.\n",
    "\\end{align}\n",
    "$$\n",
    "\n",
    "Recasting this back in the original variables leads to:\n",
    "$$\n",
    "\\begin{align}\n",
    " U_{n} - N & = \\left( \\frac{N - 1}{N} \\right)^n \\;  \\left( U_{0} - N \\right) \\\\[10 pt]\n",
    "& \\Updownarrow \\quad (U_0 = 0) \\\\[10 pt]\n",
    " U_{n}  & = \\left[1 - \\left( \\frac{N - 1}{N} \\right)^n \\right]  N . \\\\\n",
    "\\end{align}\n",
    "$$\n"
   ]
  },
  {
   "cell_type": "code",
   "execution_count": 7,
   "id": "c9f99ac3-e8e0-49c1-8f2c-159457bf1222",
   "metadata": {},
   "outputs": [],
   "source": [
    "def compute_expected_sample_size_analytical(urn_size: int, draw_size: int) -> float:\n",
    "    return (1 - ( (urn_size - 1) / urn_size  )**(draw_size)) * urn_size"
   ]
  },
  {
   "cell_type": "code",
   "execution_count": 45,
   "id": "b35a2c06-4f29-43d8-ad77-5c7790d26fcd",
   "metadata": {},
   "outputs": [
    {
     "name": "stdout",
     "output_type": "stream",
     "text": [
      "99.50661308628095\n",
      "99.522\n",
      "CPU times: user 16.6 ms, sys: 109 µs, total: 16.7 ms\n",
      "Wall time: 14.5 ms\n"
     ]
    }
   ],
   "source": [
    "no_samples = 1000\n",
    "N = 10000\n",
    "D = 100\n",
    "print(compute_expected_sample_size_analytical(N, D))\n",
    "%time print(compute_expected_sample_size_fast(N, D, no_samples))"
   ]
  },
  {
   "cell_type": "code",
   "execution_count": null,
   "id": "16e0ed06-085f-4075-8a8e-4e1b7c4b86a8",
   "metadata": {},
   "outputs": [],
   "source": []
  }
 ],
 "metadata": {
  "kernelspec": {
   "display_name": "Python 3",
   "language": "python",
   "name": "python3"
  },
  "language_info": {
   "codemirror_mode": {
    "name": "ipython",
    "version": 3
   },
   "file_extension": ".py",
   "mimetype": "text/x-python",
   "name": "python",
   "nbconvert_exporter": "python",
   "pygments_lexer": "ipython3",
   "version": "3.8.10"
  }
 },
 "nbformat": 4,
 "nbformat_minor": 5
}
