{
 "cells": [
  {
   "cell_type": "markdown",
   "id": "cea8ccb5-5dd9-4b7a-8f58-b98b0763aab6",
   "metadata": {},
   "source": [
    "# Draw with replacement\n",
    "\n",
    "Imagin we have an urn, filled with numbered balls. We draw a number of these balls, but after each draw, we place the drawn ball back in the urn. How many different numbers will we have seen after a given number of draws?\n",
    "\n",
    "To make this precise, imagine the urn contains $N$ balls, labeled with the numbers $0, 1, ..., N$. Let us refer to $N$ as the _urn size_. We draw $S$ balls, our _sample size_, but after every draw, we place the ball back in the urn. I.e. for each of the $S$ draws, we are effectively sampling from all of the $N$ balls. How many different numbers do we expect to have seen in a sample of size $S$?"
   ]
  },
  {
   "cell_type": "code",
   "execution_count": 1,
   "id": "143320f4-5e57-4eee-ba70-7e655e5d35e4",
   "metadata": {},
   "outputs": [],
   "source": [
    "import numpy as np"
   ]
  },
  {
   "cell_type": "markdown",
   "id": "e91ee5d8-f176-46f7-88eb-dd13444a3a2b",
   "metadata": {},
   "source": [
    "## Setting urn and sample size"
   ]
  },
  {
   "cell_type": "code",
   "execution_count": 2,
   "id": "b3e6874b-056b-4fe9-ae1d-58a5f5e3fac1",
   "metadata": {},
   "outputs": [],
   "source": [
    "N = 5  # Urn size\n",
    "S = 5  # Sample size"
   ]
  },
  {
   "cell_type": "markdown",
   "id": "32a31c69-705e-4e01-88c6-d07e15194ce9",
   "metadata": {},
   "source": [
    "## A first implementation\n",
    "Before trying to calculate how many different numbers we expect to see, let us write a function which performs the experiment a given number of times, and computes the average."
   ]
  },
  {
   "cell_type": "code",
   "execution_count": 46,
   "id": "90c34714-5d80-4e66-b9c4-3d254640e47d",
   "metadata": {},
   "outputs": [],
   "source": [
    "def compute_expected_sample_size(urn_size: int, sample_size: int, no_samples: int = 1_000) -> float:\n",
    "    \"\"\"Computes the expected sample size, given the urn size and sample size, by simulating the \n",
    "    experiment ``no_samples`` times.\"\"\"\n",
    "    # The urn is represented as a list of numbers 0, 1, ..., urn_size - 1\n",
    "    urn = list(range(urn_size))\n",
    "    \n",
    "    # Run the experiment\n",
    "    diff_numbers_in_sample = []\n",
    "    for _ in range(int(no_samples)):\n",
    "        sample = np.random.choice(urn, sample_size, replace=True)\n",
    "        diff_numbers = len(set(sample))\n",
    "        diff_numbers_in_sample.append(diff_numbers)\n",
    "        \n",
    "    # Compute and return mean\n",
    "    return np.mean(diff_numbers_in_sample)    "
   ]
  },
  {
   "cell_type": "code",
   "execution_count": 47,
   "id": "8103e625-d909-4ee7-8b44-e8dc1c413174",
   "metadata": {},
   "outputs": [
    {
     "name": "stdout",
     "output_type": "stream",
     "text": [
      "3.368\n",
      "CPU times: user 23.7 ms, sys: 4.03 ms, total: 27.7 ms\n",
      "Wall time: 23.4 ms\n"
     ]
    }
   ],
   "source": [
    "# Let us run a single experiment\n",
    "%time print(compute_expected_sample_size(N, S))"
   ]
  },
  {
   "cell_type": "markdown",
   "id": "0ccec477-b578-467a-bb65-cd4f8e21980e",
   "metadata": {},
   "source": [
    "## Making it a bit faster"
   ]
  },
  {
   "cell_type": "code",
   "execution_count": 48,
   "id": "20e6538c-9a28-4cde-9bb7-a6470d895283",
   "metadata": {},
   "outputs": [],
   "source": [
    "def compute_expected_sample_size(urn_size: int, sample_size: int, no_samples: int = 1_000) -> float:\n",
    "    \"\"\"Computes the expected sample size, given the urn size and sample size, by simulating the \n",
    "    experiment ``no_samples`` times.\"\"\"\n",
    "    # The urn is represented as a list of numbers 0, 1, ..., urn_size - 1\n",
    "    urn = list(range(urn_size))\n",
    "    \n",
    "    # Run the experiment\n",
    "    all_samples = np.random.choice(urn, (no_samples, sample_size), replace=True)\n",
    "    \n",
    "    return all_samples"
   ]
  },
  {
   "cell_type": "code",
   "execution_count": null,
   "id": "b7b07c5b-5907-42d1-885c-b81f82e53190",
   "metadata": {},
   "outputs": [],
   "source": []
  }
 ],
 "metadata": {
  "kernelspec": {
   "display_name": "Python 3",
   "language": "python",
   "name": "python3"
  },
  "language_info": {
   "codemirror_mode": {
    "name": "ipython",
    "version": 3
   },
   "file_extension": ".py",
   "mimetype": "text/x-python",
   "name": "python",
   "nbconvert_exporter": "python",
   "pygments_lexer": "ipython3",
   "version": "3.8.10"
  }
 },
 "nbformat": 4,
 "nbformat_minor": 5
}
